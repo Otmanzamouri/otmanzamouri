{
 "cells": [
  {
   "cell_type": "markdown",
   "id": "57e6b36b-8cea-44eb-97c8-b66a53f5b0b1",
   "metadata": {},
   "source": [
    "# Data Science Tools and Ecosystem"
   ]
  },
  {
   "cell_type": "markdown",
   "id": "e2160376-128b-450a-865f-e215fa8abc71",
   "metadata": {},
   "source": [
    "In this notebook, Data Science Tools and Ecosystem are summarized."
   ]
  },
  {
   "cell_type": "markdown",
   "id": "13d185d4-742a-4ca3-bcf8-217ef79aa121",
   "metadata": {},
   "source": [
    "__Objectives:__\n",
    "* List popular languages that Data Scientists use.\n",
    "* List commonly used libraries used by Data Scientists.\n",
    "* Comment on Data Science tools."
   ]
  },
  {
   "cell_type": "markdown",
   "id": "a74d3c18-8e08-4ded-9336-1cf1ed817bee",
   "metadata": {},
   "source": [
    "Some of the popular languages that Data Scientists use are:\n",
    "  1. Python\n",
    " 2. R\n",
    " 3. SQL\n",
    " 4. Scala\n",
    " 5. Julia"
   ]
  },
  {
   "cell_type": "markdown",
   "id": "74f1c981-6281-46f2-9024-ceee1e2bb1ce",
   "metadata": {},
   "source": [
    "Some of the commonly used libraries used by Data Scientists include:\n",
    " 1. NumPy\n",
    " 2. Pandas\n",
    " 3. Matplotlib\n",
    " 4. Seaborn\n",
    " 5. SciPy"
   ]
  },
  {
   "cell_type": "markdown",
   "id": "da06619a-336a-4802-9409-03f545d0e4cb",
   "metadata": {},
   "source": [
    "|Data Science Tools|\n",
    "|---|\n",
    "|SAS|\n",
    "|Apache Hadoop|\n",
    "|TensorFlow|"
   ]
  },
  {
   "cell_type": "markdown",
   "id": "7c3982f2-f699-4b8e-9f23-2455596cd354",
   "metadata": {},
   "source": [
    "### Below are a few examples of evaluating arithmetic expressions in Python."
   ]
  },
  {
   "cell_type": "code",
   "execution_count": 47,
   "id": "adb437a7-2d46-4cfe-8b50-0ee03f8abb9c",
   "metadata": {},
   "outputs": [
    {
     "data": {
      "text/plain": [
       "17"
      ]
     },
     "execution_count": 47,
     "metadata": {},
     "output_type": "execute_result"
    }
   ],
   "source": [
    "#This a simple arithmetic expression to mutiply then add integers\n",
    "(4*3)+5"
   ]
  },
  {
   "cell_type": "code",
   "execution_count": 49,
   "id": "7f02dc38-c767-452e-8258-80c2bcead51b",
   "metadata": {},
   "outputs": [
    {
     "data": {
      "text/plain": [
       "66.66666666666667"
      ]
     },
     "execution_count": 49,
     "metadata": {},
     "output_type": "execute_result"
    }
   ],
   "source": [
    "#This will convert 200 minutes to hours by diving by 60\n",
    "200/3"
   ]
  },
  {
   "cell_type": "markdown",
   "id": "25e3077a-e9a5-4b0d-876c-52a3000558ef",
   "metadata": {},
   "source": [
    "## Author\n",
    "Otman Zamouri"
   ]
  },
  {
   "cell_type": "code",
   "execution_count": null,
   "id": "c8149dc1-4416-4f0a-93d4-0ef6a7631cd1",
   "metadata": {},
   "outputs": [],
   "source": []
  },
  {
   "cell_type": "code",
   "execution_count": null,
   "id": "bc878d6b-b22e-4def-b990-a4a537a95f61",
   "metadata": {},
   "outputs": [],
   "source": []
  },
  {
   "cell_type": "code",
   "execution_count": null,
   "id": "b5d5e769-4227-49b6-a306-ce825c6b1408",
   "metadata": {},
   "outputs": [],
   "source": []
  },
  {
   "cell_type": "code",
   "execution_count": null,
   "id": "2d16a5da-87ed-4df4-99af-d79ba87021ff",
   "metadata": {},
   "outputs": [],
   "source": []
  },
  {
   "cell_type": "code",
   "execution_count": null,
   "id": "f69cb912-81fa-4072-9744-187421705192",
   "metadata": {},
   "outputs": [],
   "source": []
  },
  {
   "cell_type": "code",
   "execution_count": null,
   "id": "a44c3a60-5dc8-439e-b2db-5a3e8b24a2fb",
   "metadata": {},
   "outputs": [],
   "source": []
  },
  {
   "cell_type": "code",
   "execution_count": null,
   "id": "bd8c5ce1-fa75-433d-a8f6-43ca4befaf68",
   "metadata": {},
   "outputs": [],
   "source": []
  },
  {
   "cell_type": "code",
   "execution_count": null,
   "id": "3821b009-52a7-4be8-a87b-d26cf9b2897e",
   "metadata": {},
   "outputs": [],
   "source": []
  },
  {
   "cell_type": "code",
   "execution_count": null,
   "id": "91fa2bff-58b6-4c75-8d7b-5a171a216228",
   "metadata": {},
   "outputs": [],
   "source": []
  },
  {
   "cell_type": "code",
   "execution_count": null,
   "id": "bead1993-1add-4a00-9341-eb1ffd40f857",
   "metadata": {},
   "outputs": [],
   "source": []
  },
  {
   "cell_type": "code",
   "execution_count": null,
   "id": "9e851930-270a-477b-9322-5589bee41ef1",
   "metadata": {},
   "outputs": [],
   "source": []
  },
  {
   "cell_type": "code",
   "execution_count": null,
   "id": "5aa754f9-c954-4ab3-986a-866121fb26b3",
   "metadata": {},
   "outputs": [],
   "source": []
  },
  {
   "cell_type": "code",
   "execution_count": null,
   "id": "d366b81b-b2bd-4a4b-98b6-e37667f1f51f",
   "metadata": {},
   "outputs": [],
   "source": []
  }
 ],
 "metadata": {
  "kernelspec": {
   "display_name": "Python 3 (ipykernel)",
   "language": "python",
   "name": "python3"
  },
  "language_info": {
   "codemirror_mode": {
    "name": "ipython",
    "version": 3
   },
   "file_extension": ".py",
   "mimetype": "text/x-python",
   "name": "python",
   "nbconvert_exporter": "python",
   "pygments_lexer": "ipython3",
   "version": "3.12.4"
  }
 },
 "nbformat": 4,
 "nbformat_minor": 5
}
